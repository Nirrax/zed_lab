{
  "nbformat": 4,
  "nbformat_minor": 0,
  "metadata": {
    "colab": {
      "provenance": [],
      "authorship_tag": "ABX9TyN1p8X35ramjRSXEU6ErADB",
      "include_colab_link": true
    },
    "kernelspec": {
      "name": "python3",
      "display_name": "Python 3"
    },
    "language_info": {
      "name": "python"
    }
  },
  "cells": [
    {
      "cell_type": "markdown",
      "metadata": {
        "id": "view-in-github",
        "colab_type": "text"
      },
      "source": [
        "<a href=\"https://colab.research.google.com/github/Nirrax/zed_lab/blob/main/ZED_Lab1.ipynb\" target=\"_parent\"><img src=\"https://colab.research.google.com/assets/colab-badge.svg\" alt=\"Open In Colab\"/></a>"
      ]
    },
    {
      "cell_type": "markdown",
      "source": [
        "#Zadania 1. Statystyczna analiza danych w języku Python"
      ],
      "metadata": {
        "id": "c0i2YDQMvO-j"
      }
    },
    {
      "cell_type": "markdown",
      "source": [
        "2. Otworzyć plik train.csv, zaimportować podstawowe funkcje:"
      ],
      "metadata": {
        "id": "oJttQjEKrlej"
      }
    },
    {
      "cell_type": "code",
      "execution_count": null,
      "metadata": {
        "id": "ZIs3EEZ6czuV"
      },
      "outputs": [],
      "source": [
        "import matplotlib.pyplot as plt\n",
        "import pandas as pd\n",
        "import numpy as np"
      ]
    },
    {
      "cell_type": "code",
      "source": [
        "from google.colab import files\n",
        "from google.colab import drive\n",
        "\n",
        "drive.mount('/gdrive')\n",
        "filePath = '/gdrive/My Drive/Studia/VIII semestr/ZED/Dane/train.csv'\n",
        "data = pd.read_csv(filePath,\n",
        "delimiter=r\",\")"
      ],
      "metadata": {
        "colab": {
          "base_uri": "https://localhost:8080/"
        },
        "id": "ZWlVJr_pn7Vc",
        "outputId": "1fb07e08-3f0d-4852-f3e5-e3673e5a6552"
      },
      "execution_count": null,
      "outputs": [
        {
          "output_type": "stream",
          "name": "stdout",
          "text": [
            "Drive already mounted at /gdrive; to attempt to forcibly remount, call drive.mount(\"/gdrive\", force_remount=True).\n"
          ]
        }
      ]
    },
    {
      "cell_type": "markdown",
      "source": [
        "3. Wyświetlić nazwy zmiennych"
      ],
      "metadata": {
        "id": "sOkVNQgOrtfn"
      }
    },
    {
      "cell_type": "code",
      "source": [
        "data.columns"
      ],
      "metadata": {
        "colab": {
          "base_uri": "https://localhost:8080/"
        },
        "id": "Qo94UMCIpXFy",
        "outputId": "d5bfd035-4079-4deb-a52f-0a380fad358a"
      },
      "execution_count": null,
      "outputs": [
        {
          "output_type": "execute_result",
          "data": {
            "text/plain": [
              "Index(['PassengerId', 'Survived', 'Pclass', 'Name', 'Sex', 'Age', 'SibSp',\n",
              "       'Parch', 'Ticket', 'Fare', 'Cabin', 'Embarked'],\n",
              "      dtype='object')"
            ]
          },
          "metadata": {},
          "execution_count": 6
        }
      ]
    },
    {
      "cell_type": "markdown",
      "source": [
        "5. Określić rodzaj zmiennych przez zdefiniowanie ich jako kategoryczne dla zmiennych\n",
        "Survived, Pclass, Name, Sex, Ticket, Cabin, Embarked"
      ],
      "metadata": {
        "id": "jT791LpzrvDo"
      }
    },
    {
      "cell_type": "code",
      "source": [
        "data['Survived'] = data['Survived'].astype('category')\n",
        "data['Pclass'] = data['Pclass'].astype('category')\n",
        "data['Name'] = data['Name'].astype('category')\n",
        "data['Sex'] = data['Sex'].astype('category')\n",
        "data['Ticket'] = data['Ticket'].astype('category')\n",
        "data['Cabin'] = data['Cabin'].astype('category')\n",
        "data['Embarked'] = data['Embarked'].astype('category')"
      ],
      "metadata": {
        "id": "1C6SyqKGqWYb"
      },
      "execution_count": null,
      "outputs": []
    },
    {
      "cell_type": "markdown",
      "source": [
        "6. Wyznaczyć liczności poszczególnych kategorii dla zmiennych kategorycznych Survived,\n",
        "Sex i Embarked"
      ],
      "metadata": {
        "id": "7JHpI36Crvv4"
      }
    },
    {
      "cell_type": "code",
      "source": [
        "data['Survived'].value_counts(sort=False)\n",
        "data['Sex'].value_counts(sort=False)\n",
        "data['Embarked'].value_counts(sort=False)"
      ],
      "metadata": {
        "colab": {
          "base_uri": "https://localhost:8080/",
          "height": 210
        },
        "id": "B1TRPRBRq41w",
        "outputId": "6be09450-4312-4aa9-d378-efb379634b2f"
      },
      "execution_count": null,
      "outputs": [
        {
          "output_type": "execute_result",
          "data": {
            "text/plain": [
              "Embarked\n",
              "C    168\n",
              "Q     77\n",
              "S    644\n",
              "Name: count, dtype: int64"
            ],
            "text/html": [
              "<div>\n",
              "<style scoped>\n",
              "    .dataframe tbody tr th:only-of-type {\n",
              "        vertical-align: middle;\n",
              "    }\n",
              "\n",
              "    .dataframe tbody tr th {\n",
              "        vertical-align: top;\n",
              "    }\n",
              "\n",
              "    .dataframe thead th {\n",
              "        text-align: right;\n",
              "    }\n",
              "</style>\n",
              "<table border=\"1\" class=\"dataframe\">\n",
              "  <thead>\n",
              "    <tr style=\"text-align: right;\">\n",
              "      <th></th>\n",
              "      <th>count</th>\n",
              "    </tr>\n",
              "    <tr>\n",
              "      <th>Embarked</th>\n",
              "      <th></th>\n",
              "    </tr>\n",
              "  </thead>\n",
              "  <tbody>\n",
              "    <tr>\n",
              "      <th>C</th>\n",
              "      <td>168</td>\n",
              "    </tr>\n",
              "    <tr>\n",
              "      <th>Q</th>\n",
              "      <td>77</td>\n",
              "    </tr>\n",
              "    <tr>\n",
              "      <th>S</th>\n",
              "      <td>644</td>\n",
              "    </tr>\n",
              "  </tbody>\n",
              "</table>\n",
              "</div><br><label><b>dtype:</b> int64</label>"
            ]
          },
          "metadata": {},
          "execution_count": 10
        }
      ]
    },
    {
      "cell_type": "markdown",
      "source": [
        "7. Wyświetlić zmienną Age"
      ],
      "metadata": {
        "id": "xVBtzRdlr4IB"
      }
    },
    {
      "cell_type": "code",
      "source": [
        "data.Age"
      ],
      "metadata": {
        "colab": {
          "base_uri": "https://localhost:8080/",
          "height": 459
        },
        "id": "iX12TKcGrefw",
        "outputId": "1b0ca467-1cb5-4c8e-8772-2ea718aa1289"
      },
      "execution_count": null,
      "outputs": [
        {
          "output_type": "execute_result",
          "data": {
            "text/plain": [
              "0      22.0\n",
              "1      38.0\n",
              "2      26.0\n",
              "3      35.0\n",
              "4      35.0\n",
              "       ... \n",
              "886    27.0\n",
              "887    19.0\n",
              "888     NaN\n",
              "889    26.0\n",
              "890    32.0\n",
              "Name: Age, Length: 891, dtype: float64"
            ],
            "text/html": [
              "<div>\n",
              "<style scoped>\n",
              "    .dataframe tbody tr th:only-of-type {\n",
              "        vertical-align: middle;\n",
              "    }\n",
              "\n",
              "    .dataframe tbody tr th {\n",
              "        vertical-align: top;\n",
              "    }\n",
              "\n",
              "    .dataframe thead th {\n",
              "        text-align: right;\n",
              "    }\n",
              "</style>\n",
              "<table border=\"1\" class=\"dataframe\">\n",
              "  <thead>\n",
              "    <tr style=\"text-align: right;\">\n",
              "      <th></th>\n",
              "      <th>Age</th>\n",
              "    </tr>\n",
              "  </thead>\n",
              "  <tbody>\n",
              "    <tr>\n",
              "      <th>0</th>\n",
              "      <td>22.0</td>\n",
              "    </tr>\n",
              "    <tr>\n",
              "      <th>1</th>\n",
              "      <td>38.0</td>\n",
              "    </tr>\n",
              "    <tr>\n",
              "      <th>2</th>\n",
              "      <td>26.0</td>\n",
              "    </tr>\n",
              "    <tr>\n",
              "      <th>3</th>\n",
              "      <td>35.0</td>\n",
              "    </tr>\n",
              "    <tr>\n",
              "      <th>4</th>\n",
              "      <td>35.0</td>\n",
              "    </tr>\n",
              "    <tr>\n",
              "      <th>...</th>\n",
              "      <td>...</td>\n",
              "    </tr>\n",
              "    <tr>\n",
              "      <th>886</th>\n",
              "      <td>27.0</td>\n",
              "    </tr>\n",
              "    <tr>\n",
              "      <th>887</th>\n",
              "      <td>19.0</td>\n",
              "    </tr>\n",
              "    <tr>\n",
              "      <th>888</th>\n",
              "      <td>NaN</td>\n",
              "    </tr>\n",
              "    <tr>\n",
              "      <th>889</th>\n",
              "      <td>26.0</td>\n",
              "    </tr>\n",
              "    <tr>\n",
              "      <th>890</th>\n",
              "      <td>32.0</td>\n",
              "    </tr>\n",
              "  </tbody>\n",
              "</table>\n",
              "<p>891 rows × 1 columns</p>\n",
              "</div><br><label><b>dtype:</b> float64</label>"
            ]
          },
          "metadata": {},
          "execution_count": 14
        }
      ]
    },
    {
      "cell_type": "code",
      "source": [
        "data['Age'][:10]"
      ],
      "metadata": {
        "colab": {
          "base_uri": "https://localhost:8080/",
          "height": 398
        },
        "id": "j1SPs8xIsIEo",
        "outputId": "c5c94b3f-1ddc-446e-c10b-8677696c2ff2"
      },
      "execution_count": null,
      "outputs": [
        {
          "output_type": "execute_result",
          "data": {
            "text/plain": [
              "0    22.0\n",
              "1    38.0\n",
              "2    26.0\n",
              "3    35.0\n",
              "4    35.0\n",
              "5     NaN\n",
              "6    54.0\n",
              "7     2.0\n",
              "8    27.0\n",
              "9    14.0\n",
              "Name: Age, dtype: float64"
            ],
            "text/html": [
              "<div>\n",
              "<style scoped>\n",
              "    .dataframe tbody tr th:only-of-type {\n",
              "        vertical-align: middle;\n",
              "    }\n",
              "\n",
              "    .dataframe tbody tr th {\n",
              "        vertical-align: top;\n",
              "    }\n",
              "\n",
              "    .dataframe thead th {\n",
              "        text-align: right;\n",
              "    }\n",
              "</style>\n",
              "<table border=\"1\" class=\"dataframe\">\n",
              "  <thead>\n",
              "    <tr style=\"text-align: right;\">\n",
              "      <th></th>\n",
              "      <th>Age</th>\n",
              "    </tr>\n",
              "  </thead>\n",
              "  <tbody>\n",
              "    <tr>\n",
              "      <th>0</th>\n",
              "      <td>22.0</td>\n",
              "    </tr>\n",
              "    <tr>\n",
              "      <th>1</th>\n",
              "      <td>38.0</td>\n",
              "    </tr>\n",
              "    <tr>\n",
              "      <th>2</th>\n",
              "      <td>26.0</td>\n",
              "    </tr>\n",
              "    <tr>\n",
              "      <th>3</th>\n",
              "      <td>35.0</td>\n",
              "    </tr>\n",
              "    <tr>\n",
              "      <th>4</th>\n",
              "      <td>35.0</td>\n",
              "    </tr>\n",
              "    <tr>\n",
              "      <th>5</th>\n",
              "      <td>NaN</td>\n",
              "    </tr>\n",
              "    <tr>\n",
              "      <th>6</th>\n",
              "      <td>54.0</td>\n",
              "    </tr>\n",
              "    <tr>\n",
              "      <th>7</th>\n",
              "      <td>2.0</td>\n",
              "    </tr>\n",
              "    <tr>\n",
              "      <th>8</th>\n",
              "      <td>27.0</td>\n",
              "    </tr>\n",
              "    <tr>\n",
              "      <th>9</th>\n",
              "      <td>14.0</td>\n",
              "    </tr>\n",
              "  </tbody>\n",
              "</table>\n",
              "</div><br><label><b>dtype:</b> float64</label>"
            ]
          },
          "metadata": {},
          "execution_count": 15
        }
      ]
    },
    {
      "cell_type": "markdown",
      "source": [
        "8. Wyświetlić średnią i odchylenie standardowe wieku"
      ],
      "metadata": {
        "id": "_k5AGCMWsOm2"
      }
    },
    {
      "cell_type": "code",
      "source": [
        "data.Age.mean()"
      ],
      "metadata": {
        "colab": {
          "base_uri": "https://localhost:8080/"
        },
        "id": "clYPucJWsPvj",
        "outputId": "0d5e8a3d-6f6a-408e-e230-835d1db23395"
      },
      "execution_count": null,
      "outputs": [
        {
          "output_type": "execute_result",
          "data": {
            "text/plain": [
              "np.float64(29.69911764705882)"
            ]
          },
          "metadata": {},
          "execution_count": 33
        }
      ]
    },
    {
      "cell_type": "code",
      "source": [
        "data.Age.std()"
      ],
      "metadata": {
        "colab": {
          "base_uri": "https://localhost:8080/"
        },
        "id": "Rm2DuU3SsaLj",
        "outputId": "2df47b6f-2bf8-4b50-9273-a8862df37bc5"
      },
      "execution_count": null,
      "outputs": [
        {
          "output_type": "execute_result",
          "data": {
            "text/plain": [
              "14.526497332334044"
            ]
          },
          "metadata": {},
          "execution_count": 34
        }
      ]
    },
    {
      "cell_type": "markdown",
      "source": [
        "9. Wyznaczyć rozstęp dla wieku jako różnicę pomiędzy max i min"
      ],
      "metadata": {
        "id": "uepv8P_fseQd"
      }
    },
    {
      "cell_type": "code",
      "source": [
        "print('Range=%.3f' % (data.Age.max() - data.Age.min()))"
      ],
      "metadata": {
        "colab": {
          "base_uri": "https://localhost:8080/"
        },
        "id": "Pn1gODIbsfbk",
        "outputId": "f398f6ff-e6a1-4fb0-9b8f-88e1a809e1d5"
      },
      "execution_count": null,
      "outputs": [
        {
          "output_type": "stream",
          "name": "stdout",
          "text": [
            "Range=79.580\n"
          ]
        }
      ]
    },
    {
      "cell_type": "markdown",
      "source": [
        "10. Wyznaczyć rozstęp międzykwartylowy dla zmienej Age jako różnicę pomiędzy górnym\n",
        "i dolnym kwartylem (quantile(0.75, quantile(0.25))."
      ],
      "metadata": {
        "id": "PbBeJuURsk44"
      }
    },
    {
      "cell_type": "code",
      "source": [
        "data.Age.quantile(0.75) - data.Age.quantile(0.25)"
      ],
      "metadata": {
        "colab": {
          "base_uri": "https://localhost:8080/"
        },
        "id": "dGiMZjz4tBYF",
        "outputId": "c0d70bff-a155-496d-976d-1d51333a3eec"
      },
      "execution_count": null,
      "outputs": [
        {
          "output_type": "execute_result",
          "data": {
            "text/plain": [
              "np.float64(17.875)"
            ]
          },
          "metadata": {},
          "execution_count": 31
        }
      ]
    },
    {
      "cell_type": "markdown",
      "source": [
        "11. Wyznaczyć współczynnik zmienności (stosunek odchylenia standardowego do średniej\n",
        "wyrażony w procentach) dla zmienej Age."
      ],
      "metadata": {
        "id": "Vk98S0RLtUmG"
      }
    },
    {
      "cell_type": "code",
      "source": [
        "coefficient_of_variation = (data.Age.std() / data.Age.mean()) * 100\n",
        "coefficient_of_variation"
      ],
      "metadata": {
        "colab": {
          "base_uri": "https://localhost:8080/"
        },
        "id": "Udj00YTnuarg",
        "outputId": "749c782e-b17a-4186-a509-9c0baa648277"
      },
      "execution_count": null,
      "outputs": [
        {
          "output_type": "execute_result",
          "data": {
            "text/plain": [
              "np.float64(48.912218554656754)"
            ]
          },
          "metadata": {},
          "execution_count": 35
        }
      ]
    },
    {
      "cell_type": "markdown",
      "source": [
        "12. Wyznaczyć współczynnik asymetrii (skew()) oraz kurtozę (kurt()) dla zmienej Age."
      ],
      "metadata": {
        "id": "7GFbgf7GvH5m"
      }
    },
    {
      "cell_type": "code",
      "source": [
        "data.Age.skew()"
      ],
      "metadata": {
        "colab": {
          "base_uri": "https://localhost:8080/"
        },
        "id": "_YENK0frvJYz",
        "outputId": "7c48ca6d-5178-4b1c-bc97-2789b7dfd483"
      },
      "execution_count": null,
      "outputs": [
        {
          "output_type": "execute_result",
          "data": {
            "text/plain": [
              "np.float64(0.38910778230082704)"
            ]
          },
          "metadata": {},
          "execution_count": 36
        }
      ]
    },
    {
      "cell_type": "code",
      "source": [
        "data.Age.kurt()"
      ],
      "metadata": {
        "colab": {
          "base_uri": "https://localhost:8080/"
        },
        "id": "Qa-EELNvvl_j",
        "outputId": "ae886161-e6f1-4e36-eeb5-6570aaa9c096"
      },
      "execution_count": null,
      "outputs": [
        {
          "output_type": "execute_result",
          "data": {
            "text/plain": [
              "np.float64(0.17827415364210353)"
            ]
          },
          "metadata": {},
          "execution_count": 37
        }
      ]
    },
    {
      "cell_type": "markdown",
      "source": [
        "13. Wyznaczyć liczbę brakujących wartości dla zmienej Age."
      ],
      "metadata": {
        "id": "1fXdbh6dvo2u"
      }
    },
    {
      "cell_type": "code",
      "source": [
        "data.Age.isnull().sum()"
      ],
      "metadata": {
        "colab": {
          "base_uri": "https://localhost:8080/"
        },
        "id": "3AZpkIQ5vrjl",
        "outputId": "1565ac59-9b44-4cfe-baed-2771d93d1664"
      },
      "execution_count": null,
      "outputs": [
        {
          "output_type": "execute_result",
          "data": {
            "text/plain": [
              "np.int64(177)"
            ]
          },
          "metadata": {},
          "execution_count": 38
        }
      ]
    },
    {
      "cell_type": "markdown",
      "source": [
        "14. Wyświetlić podstawowe statystyki opisowe dla zmiennych numerycznych za pomocą\n",
        "polecenia describe"
      ],
      "metadata": {
        "id": "KiQZaY8XvwWN"
      }
    },
    {
      "cell_type": "code",
      "source": [
        "data.describe()"
      ],
      "metadata": {
        "colab": {
          "base_uri": "https://localhost:8080/",
          "height": 300
        },
        "id": "TlVY_E_IvzIW",
        "outputId": "8b512225-3e24-4358-d150-426c8793f58e"
      },
      "execution_count": null,
      "outputs": [
        {
          "output_type": "execute_result",
          "data": {
            "text/plain": [
              "       PassengerId         Age       SibSp       Parch        Fare\n",
              "count   891.000000  714.000000  891.000000  891.000000  891.000000\n",
              "mean    446.000000   29.699118    0.523008    0.381594   32.204208\n",
              "std     257.353842   14.526497    1.102743    0.806057   49.693429\n",
              "min       1.000000    0.420000    0.000000    0.000000    0.000000\n",
              "25%     223.500000   20.125000    0.000000    0.000000    7.910400\n",
              "50%     446.000000   28.000000    0.000000    0.000000   14.454200\n",
              "75%     668.500000   38.000000    1.000000    0.000000   31.000000\n",
              "max     891.000000   80.000000    8.000000    6.000000  512.329200"
            ],
            "text/html": [
              "\n",
              "  <div id=\"df-3b310884-9c10-4113-8ff8-2d7773e428d9\" class=\"colab-df-container\">\n",
              "    <div>\n",
              "<style scoped>\n",
              "    .dataframe tbody tr th:only-of-type {\n",
              "        vertical-align: middle;\n",
              "    }\n",
              "\n",
              "    .dataframe tbody tr th {\n",
              "        vertical-align: top;\n",
              "    }\n",
              "\n",
              "    .dataframe thead th {\n",
              "        text-align: right;\n",
              "    }\n",
              "</style>\n",
              "<table border=\"1\" class=\"dataframe\">\n",
              "  <thead>\n",
              "    <tr style=\"text-align: right;\">\n",
              "      <th></th>\n",
              "      <th>PassengerId</th>\n",
              "      <th>Age</th>\n",
              "      <th>SibSp</th>\n",
              "      <th>Parch</th>\n",
              "      <th>Fare</th>\n",
              "    </tr>\n",
              "  </thead>\n",
              "  <tbody>\n",
              "    <tr>\n",
              "      <th>count</th>\n",
              "      <td>891.000000</td>\n",
              "      <td>714.000000</td>\n",
              "      <td>891.000000</td>\n",
              "      <td>891.000000</td>\n",
              "      <td>891.000000</td>\n",
              "    </tr>\n",
              "    <tr>\n",
              "      <th>mean</th>\n",
              "      <td>446.000000</td>\n",
              "      <td>29.699118</td>\n",
              "      <td>0.523008</td>\n",
              "      <td>0.381594</td>\n",
              "      <td>32.204208</td>\n",
              "    </tr>\n",
              "    <tr>\n",
              "      <th>std</th>\n",
              "      <td>257.353842</td>\n",
              "      <td>14.526497</td>\n",
              "      <td>1.102743</td>\n",
              "      <td>0.806057</td>\n",
              "      <td>49.693429</td>\n",
              "    </tr>\n",
              "    <tr>\n",
              "      <th>min</th>\n",
              "      <td>1.000000</td>\n",
              "      <td>0.420000</td>\n",
              "      <td>0.000000</td>\n",
              "      <td>0.000000</td>\n",
              "      <td>0.000000</td>\n",
              "    </tr>\n",
              "    <tr>\n",
              "      <th>25%</th>\n",
              "      <td>223.500000</td>\n",
              "      <td>20.125000</td>\n",
              "      <td>0.000000</td>\n",
              "      <td>0.000000</td>\n",
              "      <td>7.910400</td>\n",
              "    </tr>\n",
              "    <tr>\n",
              "      <th>50%</th>\n",
              "      <td>446.000000</td>\n",
              "      <td>28.000000</td>\n",
              "      <td>0.000000</td>\n",
              "      <td>0.000000</td>\n",
              "      <td>14.454200</td>\n",
              "    </tr>\n",
              "    <tr>\n",
              "      <th>75%</th>\n",
              "      <td>668.500000</td>\n",
              "      <td>38.000000</td>\n",
              "      <td>1.000000</td>\n",
              "      <td>0.000000</td>\n",
              "      <td>31.000000</td>\n",
              "    </tr>\n",
              "    <tr>\n",
              "      <th>max</th>\n",
              "      <td>891.000000</td>\n",
              "      <td>80.000000</td>\n",
              "      <td>8.000000</td>\n",
              "      <td>6.000000</td>\n",
              "      <td>512.329200</td>\n",
              "    </tr>\n",
              "  </tbody>\n",
              "</table>\n",
              "</div>\n",
              "    <div class=\"colab-df-buttons\">\n",
              "\n",
              "  <div class=\"colab-df-container\">\n",
              "    <button class=\"colab-df-convert\" onclick=\"convertToInteractive('df-3b310884-9c10-4113-8ff8-2d7773e428d9')\"\n",
              "            title=\"Convert this dataframe to an interactive table.\"\n",
              "            style=\"display:none;\">\n",
              "\n",
              "  <svg xmlns=\"http://www.w3.org/2000/svg\" height=\"24px\" viewBox=\"0 -960 960 960\">\n",
              "    <path d=\"M120-120v-720h720v720H120Zm60-500h600v-160H180v160Zm220 220h160v-160H400v160Zm0 220h160v-160H400v160ZM180-400h160v-160H180v160Zm440 0h160v-160H620v160ZM180-180h160v-160H180v160Zm440 0h160v-160H620v160Z\"/>\n",
              "  </svg>\n",
              "    </button>\n",
              "\n",
              "  <style>\n",
              "    .colab-df-container {\n",
              "      display:flex;\n",
              "      gap: 12px;\n",
              "    }\n",
              "\n",
              "    .colab-df-convert {\n",
              "      background-color: #E8F0FE;\n",
              "      border: none;\n",
              "      border-radius: 50%;\n",
              "      cursor: pointer;\n",
              "      display: none;\n",
              "      fill: #1967D2;\n",
              "      height: 32px;\n",
              "      padding: 0 0 0 0;\n",
              "      width: 32px;\n",
              "    }\n",
              "\n",
              "    .colab-df-convert:hover {\n",
              "      background-color: #E2EBFA;\n",
              "      box-shadow: 0px 1px 2px rgba(60, 64, 67, 0.3), 0px 1px 3px 1px rgba(60, 64, 67, 0.15);\n",
              "      fill: #174EA6;\n",
              "    }\n",
              "\n",
              "    .colab-df-buttons div {\n",
              "      margin-bottom: 4px;\n",
              "    }\n",
              "\n",
              "    [theme=dark] .colab-df-convert {\n",
              "      background-color: #3B4455;\n",
              "      fill: #D2E3FC;\n",
              "    }\n",
              "\n",
              "    [theme=dark] .colab-df-convert:hover {\n",
              "      background-color: #434B5C;\n",
              "      box-shadow: 0px 1px 3px 1px rgba(0, 0, 0, 0.15);\n",
              "      filter: drop-shadow(0px 1px 2px rgba(0, 0, 0, 0.3));\n",
              "      fill: #FFFFFF;\n",
              "    }\n",
              "  </style>\n",
              "\n",
              "    <script>\n",
              "      const buttonEl =\n",
              "        document.querySelector('#df-3b310884-9c10-4113-8ff8-2d7773e428d9 button.colab-df-convert');\n",
              "      buttonEl.style.display =\n",
              "        google.colab.kernel.accessAllowed ? 'block' : 'none';\n",
              "\n",
              "      async function convertToInteractive(key) {\n",
              "        const element = document.querySelector('#df-3b310884-9c10-4113-8ff8-2d7773e428d9');\n",
              "        const dataTable =\n",
              "          await google.colab.kernel.invokeFunction('convertToInteractive',\n",
              "                                                    [key], {});\n",
              "        if (!dataTable) return;\n",
              "\n",
              "        const docLinkHtml = 'Like what you see? Visit the ' +\n",
              "          '<a target=\"_blank\" href=https://colab.research.google.com/notebooks/data_table.ipynb>data table notebook</a>'\n",
              "          + ' to learn more about interactive tables.';\n",
              "        element.innerHTML = '';\n",
              "        dataTable['output_type'] = 'display_data';\n",
              "        await google.colab.output.renderOutput(dataTable, element);\n",
              "        const docLink = document.createElement('div');\n",
              "        docLink.innerHTML = docLinkHtml;\n",
              "        element.appendChild(docLink);\n",
              "      }\n",
              "    </script>\n",
              "  </div>\n",
              "\n",
              "\n",
              "<div id=\"df-b70f235b-c030-4e75-8f94-09c8b5276d18\">\n",
              "  <button class=\"colab-df-quickchart\" onclick=\"quickchart('df-b70f235b-c030-4e75-8f94-09c8b5276d18')\"\n",
              "            title=\"Suggest charts\"\n",
              "            style=\"display:none;\">\n",
              "\n",
              "<svg xmlns=\"http://www.w3.org/2000/svg\" height=\"24px\"viewBox=\"0 0 24 24\"\n",
              "     width=\"24px\">\n",
              "    <g>\n",
              "        <path d=\"M19 3H5c-1.1 0-2 .9-2 2v14c0 1.1.9 2 2 2h14c1.1 0 2-.9 2-2V5c0-1.1-.9-2-2-2zM9 17H7v-7h2v7zm4 0h-2V7h2v10zm4 0h-2v-4h2v4z\"/>\n",
              "    </g>\n",
              "</svg>\n",
              "  </button>\n",
              "\n",
              "<style>\n",
              "  .colab-df-quickchart {\n",
              "      --bg-color: #E8F0FE;\n",
              "      --fill-color: #1967D2;\n",
              "      --hover-bg-color: #E2EBFA;\n",
              "      --hover-fill-color: #174EA6;\n",
              "      --disabled-fill-color: #AAA;\n",
              "      --disabled-bg-color: #DDD;\n",
              "  }\n",
              "\n",
              "  [theme=dark] .colab-df-quickchart {\n",
              "      --bg-color: #3B4455;\n",
              "      --fill-color: #D2E3FC;\n",
              "      --hover-bg-color: #434B5C;\n",
              "      --hover-fill-color: #FFFFFF;\n",
              "      --disabled-bg-color: #3B4455;\n",
              "      --disabled-fill-color: #666;\n",
              "  }\n",
              "\n",
              "  .colab-df-quickchart {\n",
              "    background-color: var(--bg-color);\n",
              "    border: none;\n",
              "    border-radius: 50%;\n",
              "    cursor: pointer;\n",
              "    display: none;\n",
              "    fill: var(--fill-color);\n",
              "    height: 32px;\n",
              "    padding: 0;\n",
              "    width: 32px;\n",
              "  }\n",
              "\n",
              "  .colab-df-quickchart:hover {\n",
              "    background-color: var(--hover-bg-color);\n",
              "    box-shadow: 0 1px 2px rgba(60, 64, 67, 0.3), 0 1px 3px 1px rgba(60, 64, 67, 0.15);\n",
              "    fill: var(--button-hover-fill-color);\n",
              "  }\n",
              "\n",
              "  .colab-df-quickchart-complete:disabled,\n",
              "  .colab-df-quickchart-complete:disabled:hover {\n",
              "    background-color: var(--disabled-bg-color);\n",
              "    fill: var(--disabled-fill-color);\n",
              "    box-shadow: none;\n",
              "  }\n",
              "\n",
              "  .colab-df-spinner {\n",
              "    border: 2px solid var(--fill-color);\n",
              "    border-color: transparent;\n",
              "    border-bottom-color: var(--fill-color);\n",
              "    animation:\n",
              "      spin 1s steps(1) infinite;\n",
              "  }\n",
              "\n",
              "  @keyframes spin {\n",
              "    0% {\n",
              "      border-color: transparent;\n",
              "      border-bottom-color: var(--fill-color);\n",
              "      border-left-color: var(--fill-color);\n",
              "    }\n",
              "    20% {\n",
              "      border-color: transparent;\n",
              "      border-left-color: var(--fill-color);\n",
              "      border-top-color: var(--fill-color);\n",
              "    }\n",
              "    30% {\n",
              "      border-color: transparent;\n",
              "      border-left-color: var(--fill-color);\n",
              "      border-top-color: var(--fill-color);\n",
              "      border-right-color: var(--fill-color);\n",
              "    }\n",
              "    40% {\n",
              "      border-color: transparent;\n",
              "      border-right-color: var(--fill-color);\n",
              "      border-top-color: var(--fill-color);\n",
              "    }\n",
              "    60% {\n",
              "      border-color: transparent;\n",
              "      border-right-color: var(--fill-color);\n",
              "    }\n",
              "    80% {\n",
              "      border-color: transparent;\n",
              "      border-right-color: var(--fill-color);\n",
              "      border-bottom-color: var(--fill-color);\n",
              "    }\n",
              "    90% {\n",
              "      border-color: transparent;\n",
              "      border-bottom-color: var(--fill-color);\n",
              "    }\n",
              "  }\n",
              "</style>\n",
              "\n",
              "  <script>\n",
              "    async function quickchart(key) {\n",
              "      const quickchartButtonEl =\n",
              "        document.querySelector('#' + key + ' button');\n",
              "      quickchartButtonEl.disabled = true;  // To prevent multiple clicks.\n",
              "      quickchartButtonEl.classList.add('colab-df-spinner');\n",
              "      try {\n",
              "        const charts = await google.colab.kernel.invokeFunction(\n",
              "            'suggestCharts', [key], {});\n",
              "      } catch (error) {\n",
              "        console.error('Error during call to suggestCharts:', error);\n",
              "      }\n",
              "      quickchartButtonEl.classList.remove('colab-df-spinner');\n",
              "      quickchartButtonEl.classList.add('colab-df-quickchart-complete');\n",
              "    }\n",
              "    (() => {\n",
              "      let quickchartButtonEl =\n",
              "        document.querySelector('#df-b70f235b-c030-4e75-8f94-09c8b5276d18 button');\n",
              "      quickchartButtonEl.style.display =\n",
              "        google.colab.kernel.accessAllowed ? 'block' : 'none';\n",
              "    })();\n",
              "  </script>\n",
              "</div>\n",
              "\n",
              "    </div>\n",
              "  </div>\n"
            ],
            "application/vnd.google.colaboratory.intrinsic+json": {
              "type": "dataframe",
              "summary": "{\n  \"name\": \"data\",\n  \"rows\": 8,\n  \"fields\": [\n    {\n      \"column\": \"PassengerId\",\n      \"properties\": {\n        \"dtype\": \"number\",\n        \"std\": 320.8159711429856,\n        \"min\": 1.0,\n        \"max\": 891.0,\n        \"num_unique_values\": 6,\n        \"samples\": [\n          891.0,\n          446.0,\n          668.5\n        ],\n        \"semantic_type\": \"\",\n        \"description\": \"\"\n      }\n    },\n    {\n      \"column\": \"Age\",\n      \"properties\": {\n        \"dtype\": \"number\",\n        \"std\": 242.9056731818781,\n        \"min\": 0.42,\n        \"max\": 714.0,\n        \"num_unique_values\": 8,\n        \"samples\": [\n          29.69911764705882,\n          28.0,\n          714.0\n        ],\n        \"semantic_type\": \"\",\n        \"description\": \"\"\n      }\n    },\n    {\n      \"column\": \"SibSp\",\n      \"properties\": {\n        \"dtype\": \"number\",\n        \"std\": 314.4908277465442,\n        \"min\": 0.0,\n        \"max\": 891.0,\n        \"num_unique_values\": 6,\n        \"samples\": [\n          891.0,\n          0.5230078563411896,\n          8.0\n        ],\n        \"semantic_type\": \"\",\n        \"description\": \"\"\n      }\n    },\n    {\n      \"column\": \"Parch\",\n      \"properties\": {\n        \"dtype\": \"number\",\n        \"std\": 314.65971717879,\n        \"min\": 0.0,\n        \"max\": 891.0,\n        \"num_unique_values\": 5,\n        \"samples\": [\n          0.38159371492704824,\n          6.0,\n          0.8060572211299559\n        ],\n        \"semantic_type\": \"\",\n        \"description\": \"\"\n      }\n    },\n    {\n      \"column\": \"Fare\",\n      \"properties\": {\n        \"dtype\": \"number\",\n        \"std\": 330.6256632228577,\n        \"min\": 0.0,\n        \"max\": 891.0,\n        \"num_unique_values\": 8,\n        \"samples\": [\n          32.204207968574636,\n          14.4542,\n          891.0\n        ],\n        \"semantic_type\": \"\",\n        \"description\": \"\"\n      }\n    }\n  ]\n}"
            }
          },
          "metadata": {},
          "execution_count": 39
        }
      ]
    },
    {
      "cell_type": "markdown",
      "source": [
        "15. Sprawdzić testem Shapiro-Wilka zgodność rozkładu z rozkładem normalnym dla\n",
        "zmiennej Age."
      ],
      "metadata": {
        "id": "8UbNkTxBv5kT"
      }
    },
    {
      "cell_type": "code",
      "source": [
        "from scipy.stats import shapiro\n",
        "a = data.dropna()\n",
        "print(a)\n",
        "stat, p = shapiro(a.Age)\n",
        "print(stat, p)\n",
        "alpha = 0.05\n",
        "if p > alpha:\n",
        "  print('Sample looks Gaussian (fail to reject H0)')\n",
        "else:\n",
        "  print('Sample does not look Gaussian (reject H0)')"
      ],
      "metadata": {
        "colab": {
          "base_uri": "https://localhost:8080/"
        },
        "id": "YsHQxj1cv6Mz",
        "outputId": "b1ab88c5-68d5-408d-f316-d61290d25ea4"
      },
      "execution_count": null,
      "outputs": [
        {
          "output_type": "stream",
          "name": "stdout",
          "text": [
            "     PassengerId Survived Pclass  \\\n",
            "1              2        1      1   \n",
            "3              4        1      1   \n",
            "6              7        0      1   \n",
            "10            11        1      3   \n",
            "11            12        1      1   \n",
            "..           ...      ...    ...   \n",
            "871          872        1      1   \n",
            "872          873        0      1   \n",
            "879          880        1      1   \n",
            "887          888        1      1   \n",
            "889          890        1      1   \n",
            "\n",
            "                                                  Name     Sex   Age  SibSp  \\\n",
            "1    Cumings, Mrs. John Bradley (Florence Briggs Th...  female  38.0      1   \n",
            "3         Futrelle, Mrs. Jacques Heath (Lily May Peel)  female  35.0      1   \n",
            "6                              McCarthy, Mr. Timothy J    male  54.0      0   \n",
            "10                     Sandstrom, Miss. Marguerite Rut  female   4.0      1   \n",
            "11                            Bonnell, Miss. Elizabeth  female  58.0      0   \n",
            "..                                                 ...     ...   ...    ...   \n",
            "871   Beckwith, Mrs. Richard Leonard (Sallie Monypeny)  female  47.0      1   \n",
            "872                           Carlsson, Mr. Frans Olof    male  33.0      0   \n",
            "879      Potter, Mrs. Thomas Jr (Lily Alexenia Wilson)  female  56.0      0   \n",
            "887                       Graham, Miss. Margaret Edith  female  19.0      0   \n",
            "889                              Behr, Mr. Karl Howell    male  26.0      0   \n",
            "\n",
            "     Parch    Ticket     Fare        Cabin Embarked  \n",
            "1        0  PC 17599  71.2833          C85        C  \n",
            "3        0    113803  53.1000         C123        S  \n",
            "6        0     17463  51.8625          E46        S  \n",
            "10       1   PP 9549  16.7000           G6        S  \n",
            "11       0    113783  26.5500         C103        S  \n",
            "..     ...       ...      ...          ...      ...  \n",
            "871      1     11751  52.5542          D35        S  \n",
            "872      0       695   5.0000  B51 B53 B55        S  \n",
            "879      1     11767  83.1583          C50        C  \n",
            "887      0    112053  30.0000          B42        S  \n",
            "889      0    111369  30.0000         C148        C  \n",
            "\n",
            "[183 rows x 12 columns]\n",
            "0.9909014593101708 0.30044219492517454\n",
            "Sample looks Gaussian (fail to reject H0)\n"
          ]
        }
      ]
    },
    {
      "cell_type": "markdown",
      "source": [
        "16. Sporządzić histogram dla zmiennej Age (plt.hist)"
      ],
      "metadata": {
        "id": "w_rtGxKEwJhn"
      }
    },
    {
      "cell_type": "code",
      "source": [
        "plt.hist(data.Age)\n",
        "plt.show()"
      ],
      "metadata": {
        "colab": {
          "base_uri": "https://localhost:8080/",
          "height": 430
        },
        "id": "zFBfQ9ycwLSA",
        "outputId": "c3bb6ae2-9ab2-49d5-924f-7867bd00087c"
      },
      "execution_count": null,
      "outputs": [
        {
          "output_type": "display_data",
          "data": {
            "text/plain": [
              "<Figure size 640x480 with 1 Axes>"
            ],
            "image/png": "[encoded data removed]"
          },
          "metadata": {}
        }
      ]
    },
    {
      "cell_type": "markdown",
      "source": [
        "# Zadania 2. Praca własna"
      ],
      "metadata": {
        "id": "z6zoJJSuyJbk"
      }
    },
    {
      "cell_type": "markdown",
      "source": [
        "2. Wczytać plik z danymi, zapoznać się z jego zwartością, wyświetlić nazwy zmiennych."
      ],
      "metadata": {
        "id": "Dhwd_De7yPVu"
      }
    },
    {
      "cell_type": "code",
      "source": [
        "filePath = '/gdrive/My Drive/Studia/VIII semestr/ZED/Dane/grains.xlsx'\n",
        "data = pd.read_excel(filePath)"
      ],
      "metadata": {
        "id": "RGOAdXJ3zO60"
      },
      "execution_count": null,
      "outputs": []
    },
    {
      "cell_type": "code",
      "source": [
        "data.describe()"
      ],
      "metadata": {
        "colab": {
          "base_uri": "https://localhost:8080/",
          "height": 300
        },
        "id": "XlU6TJoM0bb2",
        "outputId": "9d562cbf-21a5-41c2-acc0-11e9001d6e11"
      },
      "execution_count": null,
      "outputs": [
        {
          "output_type": "execute_result",
          "data": {
            "text/plain": [
              "       compactness       width      length        area   perimeter\n",
              "count   144.000000  144.000000  144.000000  144.000000  144.000000\n",
              "mean      0.870486    3.150889    5.739218   14.598443   13.852035\n",
              "std       0.067641    0.393240    0.487407    3.094116    1.653274\n",
              "min       0.600000    2.500000    4.824561    9.649123   11.228070\n",
              "25%       0.840000    2.807018    5.350877   11.699754   12.543860\n",
              "50%       0.880000    3.157895    5.614035   14.307287   13.421053\n",
              "75%       0.920000    3.421053    6.184211   16.822004   15.449562\n",
              "max       0.970000    3.991228    6.973684   21.993307   17.807018"
            ],
            "text/html": [
              "\n",
              "  <div id=\"df-36692f84-086f-4f49-abcc-762687be2b4a\" class=\"colab-df-container\">\n",
              "    <div>\n",
              "<style scoped>\n",
              "    .dataframe tbody tr th:only-of-type {\n",
              "        vertical-align: middle;\n",
              "    }\n",
              "\n",
              "    .dataframe tbody tr th {\n",
              "        vertical-align: top;\n",
              "    }\n",
              "\n",
              "    .dataframe thead th {\n",
              "        text-align: right;\n",
              "    }\n",
              "</style>\n",
              "<table border=\"1\" class=\"dataframe\">\n",
              "  <thead>\n",
              "    <tr style=\"text-align: right;\">\n",
              "      <th></th>\n",
              "      <th>compactness</th>\n",
              "      <th>width</th>\n",
              "      <th>length</th>\n",
              "      <th>area</th>\n",
              "      <th>perimeter</th>\n",
              "    </tr>\n",
              "  </thead>\n",
              "  <tbody>\n",
              "    <tr>\n",
              "      <th>count</th>\n",
              "      <td>144.000000</td>\n",
              "      <td>144.000000</td>\n",
              "      <td>144.000000</td>\n",
              "      <td>144.000000</td>\n",
              "      <td>144.000000</td>\n",
              "    </tr>\n",
              "    <tr>\n",
              "      <th>mean</th>\n",
              "      <td>0.870486</td>\n",
              "      <td>3.150889</td>\n",
              "      <td>5.739218</td>\n",
              "      <td>14.598443</td>\n",
              "      <td>13.852035</td>\n",
              "    </tr>\n",
              "    <tr>\n",
              "      <th>std</th>\n",
              "      <td>0.067641</td>\n",
              "      <td>0.393240</td>\n",
              "      <td>0.487407</td>\n",
              "      <td>3.094116</td>\n",
              "      <td>1.653274</td>\n",
              "    </tr>\n",
              "    <tr>\n",
              "      <th>min</th>\n",
              "      <td>0.600000</td>\n",
              "      <td>2.500000</td>\n",
              "      <td>4.824561</td>\n",
              "      <td>9.649123</td>\n",
              "      <td>11.228070</td>\n",
              "    </tr>\n",
              "    <tr>\n",
              "      <th>25%</th>\n",
              "      <td>0.840000</td>\n",
              "      <td>2.807018</td>\n",
              "      <td>5.350877</td>\n",
              "      <td>11.699754</td>\n",
              "      <td>12.543860</td>\n",
              "    </tr>\n",
              "    <tr>\n",
              "      <th>50%</th>\n",
              "      <td>0.880000</td>\n",
              "      <td>3.157895</td>\n",
              "      <td>5.614035</td>\n",
              "      <td>14.307287</td>\n",
              "      <td>13.421053</td>\n",
              "    </tr>\n",
              "    <tr>\n",
              "      <th>75%</th>\n",
              "      <td>0.920000</td>\n",
              "      <td>3.421053</td>\n",
              "      <td>6.184211</td>\n",
              "      <td>16.822004</td>\n",
              "      <td>15.449562</td>\n",
              "    </tr>\n",
              "    <tr>\n",
              "      <th>max</th>\n",
              "      <td>0.970000</td>\n",
              "      <td>3.991228</td>\n",
              "      <td>6.973684</td>\n",
              "      <td>21.993307</td>\n",
              "      <td>17.807018</td>\n",
              "    </tr>\n",
              "  </tbody>\n",
              "</table>\n",
              "</div>\n",
              "    <div class=\"colab-df-buttons\">\n",
              "\n",
              "  <div class=\"colab-df-container\">\n",
              "    <button class=\"colab-df-convert\" onclick=\"convertToInteractive('df-36692f84-086f-4f49-abcc-762687be2b4a')\"\n",
              "            title=\"Convert this dataframe to an interactive table.\"\n",
              "            style=\"display:none;\">\n",
              "\n",
              "  <svg xmlns=\"http://www.w3.org/2000/svg\" height=\"24px\" viewBox=\"0 -960 960 960\">\n",
              "    <path d=\"M120-120v-720h720v720H120Zm60-500h600v-160H180v160Zm220 220h160v-160H400v160Zm0 220h160v-160H400v160ZM180-400h160v-160H180v160Zm440 0h160v-160H620v160ZM180-180h160v-160H180v160Zm440 0h160v-160H620v160Z\"/>\n",
              "  </svg>\n",
              "    </button>\n",
              "\n",
              "  <style>\n",
              "    .colab-df-container {\n",
              "      display:flex;\n",
              "      gap: 12px;\n",
              "    }\n",
              "\n",
              "    .colab-df-convert {\n",
              "      background-color: #E8F0FE;\n",
              "      border: none;\n",
              "      border-radius: 50%;\n",
              "      cursor: pointer;\n",
              "      display: none;\n",
              "      fill: #1967D2;\n",
              "      height: 32px;\n",
              "      padding: 0 0 0 0;\n",
              "      width: 32px;\n",
              "    }\n",
              "\n",
              "    .colab-df-convert:hover {\n",
              "      background-color: #E2EBFA;\n",
              "      box-shadow: 0px 1px 2px rgba(60, 64, 67, 0.3), 0px 1px 3px 1px rgba(60, 64, 67, 0.15);\n",
              "      fill: #174EA6;\n",
              "    }\n",
              "\n",
              "    .colab-df-buttons div {\n",
              "      margin-bottom: 4px;\n",
              "    }\n",
              "\n",
              "    [theme=dark] .colab-df-convert {\n",
              "      background-color: #3B4455;\n",
              "      fill: #D2E3FC;\n",
              "    }\n",
              "\n",
              "    [theme=dark] .colab-df-convert:hover {\n",
              "      background-color: #434B5C;\n",
              "      box-shadow: 0px 1px 3px 1px rgba(0, 0, 0, 0.15);\n",
              "      filter: drop-shadow(0px 1px 2px rgba(0, 0, 0, 0.3));\n",
              "      fill: #FFFFFF;\n",
              "    }\n",
              "  </style>\n",
              "\n",
              "    <script>\n",
              "      const buttonEl =\n",
              "        document.querySelector('#df-36692f84-086f-4f49-abcc-762687be2b4a button.colab-df-convert');\n",
              "      buttonEl.style.display =\n",
              "        google.colab.kernel.accessAllowed ? 'block' : 'none';\n",
              "\n",
              "      async function convertToInteractive(key) {\n",
              "        const element = document.querySelector('#df-36692f84-086f-4f49-abcc-762687be2b4a');\n",
              "        const dataTable =\n",
              "          await google.colab.kernel.invokeFunction('convertToInteractive',\n",
              "                                                    [key], {});\n",
              "        if (!dataTable) return;\n",
              "\n",
              "        const docLinkHtml = 'Like what you see? Visit the ' +\n",
              "          '<a target=\"_blank\" href=https://colab.research.google.com/notebooks/data_table.ipynb>data table notebook</a>'\n",
              "          + ' to learn more about interactive tables.';\n",
              "        element.innerHTML = '';\n",
              "        dataTable['output_type'] = 'display_data';\n",
              "        await google.colab.output.renderOutput(dataTable, element);\n",
              "        const docLink = document.createElement('div');\n",
              "        docLink.innerHTML = docLinkHtml;\n",
              "        element.appendChild(docLink);\n",
              "      }\n",
              "    </script>\n",
              "  </div>\n",
              "\n",
              "\n",
              "<div id=\"df-e94864db-143f-4c24-ab9f-d79d85c2c5e9\">\n",
              "  <button class=\"colab-df-quickchart\" onclick=\"quickchart('df-e94864db-143f-4c24-ab9f-d79d85c2c5e9')\"\n",
              "            title=\"Suggest charts\"\n",
              "            style=\"display:none;\">\n",
              "\n",
              "<svg xmlns=\"http://www.w3.org/2000/svg\" height=\"24px\"viewBox=\"0 0 24 24\"\n",
              "     width=\"24px\">\n",
              "    <g>\n",
              "        <path d=\"M19 3H5c-1.1 0-2 .9-2 2v14c0 1.1.9 2 2 2h14c1.1 0 2-.9 2-2V5c0-1.1-.9-2-2-2zM9 17H7v-7h2v7zm4 0h-2V7h2v10zm4 0h-2v-4h2v4z\"/>\n",
              "    </g>\n",
              "</svg>\n",
              "  </button>\n",
              "\n",
              "<style>\n",
              "  .colab-df-quickchart {\n",
              "      --bg-color: #E8F0FE;\n",
              "      --fill-color: #1967D2;\n",
              "      --hover-bg-color: #E2EBFA;\n",
              "      --hover-fill-color: #174EA6;\n",
              "      --disabled-fill-color: #AAA;\n",
              "      --disabled-bg-color: #DDD;\n",
              "  }\n",
              "\n",
              "  [theme=dark] .colab-df-quickchart {\n",
              "      --bg-color: #3B4455;\n",
              "      --fill-color: #D2E3FC;\n",
              "      --hover-bg-color: #434B5C;\n",
              "      --hover-fill-color: #FFFFFF;\n",
              "      --disabled-bg-color: #3B4455;\n",
              "      --disabled-fill-color: #666;\n",
              "  }\n",
              "\n",
              "  .colab-df-quickchart {\n",
              "    background-color: var(--bg-color);\n",
              "    border: none;\n",
              "    border-radius: 50%;\n",
              "    cursor: pointer;\n",
              "    display: none;\n",
              "    fill: var(--fill-color);\n",
              "    height: 32px;\n",
              "    padding: 0;\n",
              "    width: 32px;\n",
              "  }\n",
              "\n",
              "  .colab-df-quickchart:hover {\n",
              "    background-color: var(--hover-bg-color);\n",
              "    box-shadow: 0 1px 2px rgba(60, 64, 67, 0.3), 0 1px 3px 1px rgba(60, 64, 67, 0.15);\n",
              "    fill: var(--button-hover-fill-color);\n",
              "  }\n",
              "\n",
              "  .colab-df-quickchart-complete:disabled,\n",
              "  .colab-df-quickchart-complete:disabled:hover {\n",
              "    background-color: var(--disabled-bg-color);\n",
              "    fill: var(--disabled-fill-color);\n",
              "    box-shadow: none;\n",
              "  }\n",
              "\n",
              "  .colab-df-spinner {\n",
              "    border: 2px solid var(--fill-color);\n",
              "    border-color: transparent;\n",
              "    border-bottom-color: var(--fill-color);\n",
              "    animation:\n",
              "      spin 1s steps(1) infinite;\n",
              "  }\n",
              "\n",
              "  @keyframes spin {\n",
              "    0% {\n",
              "      border-color: transparent;\n",
              "      border-bottom-color: var(--fill-color);\n",
              "      border-left-color: var(--fill-color);\n",
              "    }\n",
              "    20% {\n",
              "      border-color: transparent;\n",
              "      border-left-color: var(--fill-color);\n",
              "      border-top-color: var(--fill-color);\n",
              "    }\n",
              "    30% {\n",
              "      border-color: transparent;\n",
              "      border-left-color: var(--fill-color);\n",
              "      border-top-color: var(--fill-color);\n",
              "      border-right-color: var(--fill-color);\n",
              "    }\n",
              "    40% {\n",
              "      border-color: transparent;\n",
              "      border-right-color: var(--fill-color);\n",
              "      border-top-color: var(--fill-color);\n",
              "    }\n",
              "    60% {\n",
              "      border-color: transparent;\n",
              "      border-right-color: var(--fill-color);\n",
              "    }\n",
              "    80% {\n",
              "      border-color: transparent;\n",
              "      border-right-color: var(--fill-color);\n",
              "      border-bottom-color: var(--fill-color);\n",
              "    }\n",
              "    90% {\n",
              "      border-color: transparent;\n",
              "      border-bottom-color: var(--fill-color);\n",
              "    }\n",
              "  }\n",
              "</style>\n",
              "\n",
              "  <script>\n",
              "    async function quickchart(key) {\n",
              "      const quickchartButtonEl =\n",
              "        document.querySelector('#' + key + ' button');\n",
              "      quickchartButtonEl.disabled = true;  // To prevent multiple clicks.\n",
              "      quickchartButtonEl.classList.add('colab-df-spinner');\n",
              "      try {\n",
              "        const charts = await google.colab.kernel.invokeFunction(\n",
              "            'suggestCharts', [key], {});\n",
              "      } catch (error) {\n",
              "        console.error('Error during call to suggestCharts:', error);\n",
              "      }\n",
              "      quickchartButtonEl.classList.remove('colab-df-spinner');\n",
              "      quickchartButtonEl.classList.add('colab-df-quickchart-complete');\n",
              "    }\n",
              "    (() => {\n",
              "      let quickchartButtonEl =\n",
              "        document.querySelector('#df-e94864db-143f-4c24-ab9f-d79d85c2c5e9 button');\n",
              "      quickchartButtonEl.style.display =\n",
              "        google.colab.kernel.accessAllowed ? 'block' : 'none';\n",
              "    })();\n",
              "  </script>\n",
              "</div>\n",
              "\n",
              "    </div>\n",
              "  </div>\n"
            ],
            "application/vnd.google.colaboratory.intrinsic+json": {
              "type": "dataframe",
              "summary": "{\n  \"name\": \"data\",\n  \"rows\": 8,\n  \"fields\": [\n    {\n      \"column\": \"compactness\",\n      \"properties\": {\n        \"dtype\": \"number\",\n        \"std\": 50.65251953798709,\n        \"min\": 0.06764086426884655,\n        \"max\": 144.0,\n        \"num_unique_values\": 8,\n        \"samples\": [\n          0.8704861111111112,\n          0.88,\n          144.0\n        ],\n        \"semantic_type\": \"\",\n        \"description\": \"\"\n      }\n    },\n    {\n      \"column\": \"width\",\n      \"properties\": {\n        \"dtype\": \"number\",\n        \"std\": 49.94211191629805,\n        \"min\": 0.39324009861831927,\n        \"max\": 144.0,\n        \"num_unique_values\": 8,\n        \"samples\": [\n          3.1508894392361113,\n          3.1578948,\n          144.0\n        ],\n        \"semantic_type\": \"\",\n        \"description\": \"\"\n      }\n    },\n    {\n      \"column\": \"length\",\n      \"properties\": {\n        \"dtype\": \"number\",\n        \"std\": 49.17398206390451,\n        \"min\": 0.48740695731464684,\n        \"max\": 144.0,\n        \"num_unique_values\": 8,\n        \"samples\": [\n          5.739217951041667,\n          5.6140352,\n          144.0\n        ],\n        \"semantic_type\": \"\",\n        \"description\": \"\"\n      }\n    },\n    {\n      \"column\": \"area\",\n      \"properties\": {\n        \"dtype\": \"number\",\n        \"std\": 46.58077523723248,\n        \"min\": 3.09411633784312,\n        \"max\": 144.0,\n        \"num_unique_values\": 8,\n        \"samples\": [\n          14.59844273280402,\n          14.3072874297861,\n          144.0\n        ],\n        \"semantic_type\": \"\",\n        \"description\": \"\"\n      }\n    },\n    {\n      \"column\": \"perimeter\",\n      \"properties\": {\n        \"dtype\": \"number\",\n        \"std\": 46.81273990087353,\n        \"min\": 1.6532736286096785,\n        \"max\": 144.0,\n        \"num_unique_values\": 8,\n        \"samples\": [\n          13.852034877430556,\n          13.4210529,\n          144.0\n        ],\n        \"semantic_type\": \"\",\n        \"description\": \"\"\n      }\n    }\n  ]\n}"
            }
          },
          "metadata": {},
          "execution_count": 6
        }
      ]
    },
    {
      "cell_type": "code",
      "source": [
        "data.columns"
      ],
      "metadata": {
        "colab": {
          "base_uri": "https://localhost:8080/"
        },
        "id": "Ld6GsnFs0zO6",
        "outputId": "3915e1c5-9a9d-4a09-8ebb-bbefb95e1137"
      },
      "execution_count": null,
      "outputs": [
        {
          "output_type": "execute_result",
          "data": {
            "text/plain": [
              "Index(['group', 'compactness', 'width', 'length', 'area', 'perimeter'], dtype='object')"
            ]
          },
          "metadata": {},
          "execution_count": 7
        }
      ]
    },
    {
      "cell_type": "code",
      "source": [
        "data['group'] = data['group'].astype('category')\n",
        "data.groupby('group').count()"
      ],
      "metadata": {
        "colab": {
          "base_uri": "https://localhost:8080/",
          "height": 231
        },
        "id": "8VUPUdcp2SY5",
        "outputId": "73180007-5fee-4da6-f2f9-094914a95b8d"
      },
      "execution_count": null,
      "outputs": [
        {
          "output_type": "stream",
          "name": "stderr",
          "text": [
            "<ipython-input-8-d456d26d2187>:2: FutureWarning: The default of observed=False is deprecated and will be changed to True in a future version of pandas. Pass observed=False to retain current behavior or observed=True to adopt the future default and silence this warning.\n",
            "  data.groupby('group').count()\n"
          ]
        },
        {
          "output_type": "execute_result",
          "data": {
            "text/plain": [
              "          compactness  width  length  area  perimeter\n",
              "group                                                \n",
              "canadian           48     48      48    48         48\n",
              "kama               48     48      48    48         48\n",
              "rosa               48     48      48    48         48"
            ],
            "text/html": [
              "\n",
              "  <div id=\"df-cb35a34c-6990-448d-833c-9c3268838e82\" class=\"colab-df-container\">\n",
              "    <div>\n",
              "<style scoped>\n",
              "    .dataframe tbody tr th:only-of-type {\n",
              "        vertical-align: middle;\n",
              "    }\n",
              "\n",
              "    .dataframe tbody tr th {\n",
              "        vertical-align: top;\n",
              "    }\n",
              "\n",
              "    .dataframe thead th {\n",
              "        text-align: right;\n",
              "    }\n",
              "</style>\n",
              "<table border=\"1\" class=\"dataframe\">\n",
              "  <thead>\n",
              "    <tr style=\"text-align: right;\">\n",
              "      <th></th>\n",
              "      <th>compactness</th>\n",
              "      <th>width</th>\n",
              "      <th>length</th>\n",
              "      <th>area</th>\n",
              "      <th>perimeter</th>\n",
              "    </tr>\n",
              "    <tr>\n",
              "      <th>group</th>\n",
              "      <th></th>\n",
              "      <th></th>\n",
              "      <th></th>\n",
              "      <th></th>\n",
              "      <th></th>\n",
              "    </tr>\n",
              "  </thead>\n",
              "  <tbody>\n",
              "    <tr>\n",
              "      <th>canadian</th>\n",
              "      <td>48</td>\n",
              "      <td>48</td>\n",
              "      <td>48</td>\n",
              "      <td>48</td>\n",
              "      <td>48</td>\n",
              "    </tr>\n",
              "    <tr>\n",
              "      <th>kama</th>\n",
              "      <td>48</td>\n",
              "      <td>48</td>\n",
              "      <td>48</td>\n",
              "      <td>48</td>\n",
              "      <td>48</td>\n",
              "    </tr>\n",
              "    <tr>\n",
              "      <th>rosa</th>\n",
              "      <td>48</td>\n",
              "      <td>48</td>\n",
              "      <td>48</td>\n",
              "      <td>48</td>\n",
              "      <td>48</td>\n",
              "    </tr>\n",
              "  </tbody>\n",
              "</table>\n",
              "</div>\n",
              "    <div class=\"colab-df-buttons\">\n",
              "\n",
              "  <div class=\"colab-df-container\">\n",
              "    <button class=\"colab-df-convert\" onclick=\"convertToInteractive('df-cb35a34c-6990-448d-833c-9c3268838e82')\"\n",
              "            title=\"Convert this dataframe to an interactive table.\"\n",
              "            style=\"display:none;\">\n",
              "\n",
              "  <svg xmlns=\"http://www.w3.org/2000/svg\" height=\"24px\" viewBox=\"0 -960 960 960\">\n",
              "    <path d=\"M120-120v-720h720v720H120Zm60-500h600v-160H180v160Zm220 220h160v-160H400v160Zm0 220h160v-160H400v160ZM180-400h160v-160H180v160Zm440 0h160v-160H620v160ZM180-180h160v-160H180v160Zm440 0h160v-160H620v160Z\"/>\n",
              "  </svg>\n",
              "    </button>\n",
              "\n",
              "  <style>\n",
              "    .colab-df-container {\n",
              "      display:flex;\n",
              "      gap: 12px;\n",
              "    }\n",
              "\n",
              "    .colab-df-convert {\n",
              "      background-color: #E8F0FE;\n",
              "      border: none;\n",
              "      border-radius: 50%;\n",
              "      cursor: pointer;\n",
              "      display: none;\n",
              "      fill: #1967D2;\n",
              "      height: 32px;\n",
              "      padding: 0 0 0 0;\n",
              "      width: 32px;\n",
              "    }\n",
              "\n",
              "    .colab-df-convert:hover {\n",
              "      background-color: #E2EBFA;\n",
              "      box-shadow: 0px 1px 2px rgba(60, 64, 67, 0.3), 0px 1px 3px 1px rgba(60, 64, 67, 0.15);\n",
              "      fill: #174EA6;\n",
              "    }\n",
              "\n",
              "    .colab-df-buttons div {\n",
              "      margin-bottom: 4px;\n",
              "    }\n",
              "\n",
              "    [theme=dark] .colab-df-convert {\n",
              "      background-color: #3B4455;\n",
              "      fill: #D2E3FC;\n",
              "    }\n",
              "\n",
              "    [theme=dark] .colab-df-convert:hover {\n",
              "      background-color: #434B5C;\n",
              "      box-shadow: 0px 1px 3px 1px rgba(0, 0, 0, 0.15);\n",
              "      filter: drop-shadow(0px 1px 2px rgba(0, 0, 0, 0.3));\n",
              "      fill: #FFFFFF;\n",
              "    }\n",
              "  </style>\n",
              "\n",
              "    <script>\n",
              "      const buttonEl =\n",
              "        document.querySelector('#df-cb35a34c-6990-448d-833c-9c3268838e82 button.colab-df-convert');\n",
              "      buttonEl.style.display =\n",
              "        google.colab.kernel.accessAllowed ? 'block' : 'none';\n",
              "\n",
              "      async function convertToInteractive(key) {\n",
              "        const element = document.querySelector('#df-cb35a34c-6990-448d-833c-9c3268838e82');\n",
              "        const dataTable =\n",
              "          await google.colab.kernel.invokeFunction('convertToInteractive',\n",
              "                                                    [key], {});\n",
              "        if (!dataTable) return;\n",
              "\n",
              "        const docLinkHtml = 'Like what you see? Visit the ' +\n",
              "          '<a target=\"_blank\" href=https://colab.research.google.com/notebooks/data_table.ipynb>data table notebook</a>'\n",
              "          + ' to learn more about interactive tables.';\n",
              "        element.innerHTML = '';\n",
              "        dataTable['output_type'] = 'display_data';\n",
              "        await google.colab.output.renderOutput(dataTable, element);\n",
              "        const docLink = document.createElement('div');\n",
              "        docLink.innerHTML = docLinkHtml;\n",
              "        element.appendChild(docLink);\n",
              "      }\n",
              "    </script>\n",
              "  </div>\n",
              "\n",
              "\n",
              "<div id=\"df-4beb8505-f414-4f26-9465-90b0f022c410\">\n",
              "  <button class=\"colab-df-quickchart\" onclick=\"quickchart('df-4beb8505-f414-4f26-9465-90b0f022c410')\"\n",
              "            title=\"Suggest charts\"\n",
              "            style=\"display:none;\">\n",
              "\n",
              "<svg xmlns=\"http://www.w3.org/2000/svg\" height=\"24px\"viewBox=\"0 0 24 24\"\n",
              "     width=\"24px\">\n",
              "    <g>\n",
              "        <path d=\"M19 3H5c-1.1 0-2 .9-2 2v14c0 1.1.9 2 2 2h14c1.1 0 2-.9 2-2V5c0-1.1-.9-2-2-2zM9 17H7v-7h2v7zm4 0h-2V7h2v10zm4 0h-2v-4h2v4z\"/>\n",
              "    </g>\n",
              "</svg>\n",
              "  </button>\n",
              "\n",
              "<style>\n",
              "  .colab-df-quickchart {\n",
              "      --bg-color: #E8F0FE;\n",
              "      --fill-color: #1967D2;\n",
              "      --hover-bg-color: #E2EBFA;\n",
              "      --hover-fill-color: #174EA6;\n",
              "      --disabled-fill-color: #AAA;\n",
              "      --disabled-bg-color: #DDD;\n",
              "  }\n",
              "\n",
              "  [theme=dark] .colab-df-quickchart {\n",
              "      --bg-color: #3B4455;\n",
              "      --fill-color: #D2E3FC;\n",
              "      --hover-bg-color: #434B5C;\n",
              "      --hover-fill-color: #FFFFFF;\n",
              "      --disabled-bg-color: #3B4455;\n",
              "      --disabled-fill-color: #666;\n",
              "  }\n",
              "\n",
              "  .colab-df-quickchart {\n",
              "    background-color: var(--bg-color);\n",
              "    border: none;\n",
              "    border-radius: 50%;\n",
              "    cursor: pointer;\n",
              "    display: none;\n",
              "    fill: var(--fill-color);\n",
              "    height: 32px;\n",
              "    padding: 0;\n",
              "    width: 32px;\n",
              "  }\n",
              "\n",
              "  .colab-df-quickchart:hover {\n",
              "    background-color: var(--hover-bg-color);\n",
              "    box-shadow: 0 1px 2px rgba(60, 64, 67, 0.3), 0 1px 3px 1px rgba(60, 64, 67, 0.15);\n",
              "    fill: var(--button-hover-fill-color);\n",
              "  }\n",
              "\n",
              "  .colab-df-quickchart-complete:disabled,\n",
              "  .colab-df-quickchart-complete:disabled:hover {\n",
              "    background-color: var(--disabled-bg-color);\n",
              "    fill: var(--disabled-fill-color);\n",
              "    box-shadow: none;\n",
              "  }\n",
              "\n",
              "  .colab-df-spinner {\n",
              "    border: 2px solid var(--fill-color);\n",
              "    border-color: transparent;\n",
              "    border-bottom-color: var(--fill-color);\n",
              "    animation:\n",
              "      spin 1s steps(1) infinite;\n",
              "  }\n",
              "\n",
              "  @keyframes spin {\n",
              "    0% {\n",
              "      border-color: transparent;\n",
              "      border-bottom-color: var(--fill-color);\n",
              "      border-left-color: var(--fill-color);\n",
              "    }\n",
              "    20% {\n",
              "      border-color: transparent;\n",
              "      border-left-color: var(--fill-color);\n",
              "      border-top-color: var(--fill-color);\n",
              "    }\n",
              "    30% {\n",
              "      border-color: transparent;\n",
              "      border-left-color: var(--fill-color);\n",
              "      border-top-color: var(--fill-color);\n",
              "      border-right-color: var(--fill-color);\n",
              "    }\n",
              "    40% {\n",
              "      border-color: transparent;\n",
              "      border-right-color: var(--fill-color);\n",
              "      border-top-color: var(--fill-color);\n",
              "    }\n",
              "    60% {\n",
              "      border-color: transparent;\n",
              "      border-right-color: var(--fill-color);\n",
              "    }\n",
              "    80% {\n",
              "      border-color: transparent;\n",
              "      border-right-color: var(--fill-color);\n",
              "      border-bottom-color: var(--fill-color);\n",
              "    }\n",
              "    90% {\n",
              "      border-color: transparent;\n",
              "      border-bottom-color: var(--fill-color);\n",
              "    }\n",
              "  }\n",
              "</style>\n",
              "\n",
              "  <script>\n",
              "    async function quickchart(key) {\n",
              "      const quickchartButtonEl =\n",
              "        document.querySelector('#' + key + ' button');\n",
              "      quickchartButtonEl.disabled = true;  // To prevent multiple clicks.\n",
              "      quickchartButtonEl.classList.add('colab-df-spinner');\n",
              "      try {\n",
              "        const charts = await google.colab.kernel.invokeFunction(\n",
              "            'suggestCharts', [key], {});\n",
              "      } catch (error) {\n",
              "        console.error('Error during call to suggestCharts:', error);\n",
              "      }\n",
              "      quickchartButtonEl.classList.remove('colab-df-spinner');\n",
              "      quickchartButtonEl.classList.add('colab-df-quickchart-complete');\n",
              "    }\n",
              "    (() => {\n",
              "      let quickchartButtonEl =\n",
              "        document.querySelector('#df-4beb8505-f414-4f26-9465-90b0f022c410 button');\n",
              "      quickchartButtonEl.style.display =\n",
              "        google.colab.kernel.accessAllowed ? 'block' : 'none';\n",
              "    })();\n",
              "  </script>\n",
              "</div>\n",
              "\n",
              "    </div>\n",
              "  </div>\n"
            ],
            "application/vnd.google.colaboratory.intrinsic+json": {
              "type": "dataframe",
              "summary": "{\n  \"name\": \"data\",\n  \"rows\": 3,\n  \"fields\": [\n    {\n      \"column\": \"group\",\n      \"properties\": {\n        \"dtype\": \"category\",\n        \"num_unique_values\": 3,\n        \"samples\": [\n          \"canadian\",\n          \"kama\",\n          \"rosa\"\n        ],\n        \"semantic_type\": \"\",\n        \"description\": \"\"\n      }\n    },\n    {\n      \"column\": \"compactness\",\n      \"properties\": {\n        \"dtype\": \"number\",\n        \"std\": 0,\n        \"min\": 48,\n        \"max\": 48,\n        \"num_unique_values\": 1,\n        \"samples\": [\n          48\n        ],\n        \"semantic_type\": \"\",\n        \"description\": \"\"\n      }\n    },\n    {\n      \"column\": \"width\",\n      \"properties\": {\n        \"dtype\": \"number\",\n        \"std\": 0,\n        \"min\": 48,\n        \"max\": 48,\n        \"num_unique_values\": 1,\n        \"samples\": [\n          48\n        ],\n        \"semantic_type\": \"\",\n        \"description\": \"\"\n      }\n    },\n    {\n      \"column\": \"length\",\n      \"properties\": {\n        \"dtype\": \"number\",\n        \"std\": 0,\n        \"min\": 48,\n        \"max\": 48,\n        \"num_unique_values\": 1,\n        \"samples\": [\n          48\n        ],\n        \"semantic_type\": \"\",\n        \"description\": \"\"\n      }\n    },\n    {\n      \"column\": \"area\",\n      \"properties\": {\n        \"dtype\": \"number\",\n        \"std\": 0,\n        \"min\": 48,\n        \"max\": 48,\n        \"num_unique_values\": 1,\n        \"samples\": [\n          48\n        ],\n        \"semantic_type\": \"\",\n        \"description\": \"\"\n      }\n    },\n    {\n      \"column\": \"perimeter\",\n      \"properties\": {\n        \"dtype\": \"number\",\n        \"std\": 0,\n        \"min\": 48,\n        \"max\": 48,\n        \"num_unique_values\": 1,\n        \"samples\": [\n          48\n        ],\n        \"semantic_type\": \"\",\n        \"description\": \"\"\n      }\n    }\n  ]\n}"
            }
          },
          "metadata": {},
          "execution_count": 8
        }
      ]
    },
    {
      "cell_type": "markdown",
      "source": [
        "4. Wyznaczyć podstawowe miary statystyczne dla parametrów geometrycznych ziaren\n",
        "każdej odmiany oddzielnie."
      ],
      "metadata": {
        "id": "Eq0EL0Xzvmjm"
      }
    },
    {
      "cell_type": "code",
      "source": [
        "for group in data['group'].unique():\n",
        "  print(f\"\\nPodstawowe miary statystyczne dla odmiany {group}:\")\n",
        "  subset = data[data['group'] == group]\n",
        "  print(subset[['area', 'perimeter', 'length']].describe())\n"
      ],
      "metadata": {
        "colab": {
          "base_uri": "https://localhost:8080/"
        },
        "id": "Br9MmpjxvqWt",
        "outputId": "324837d1-67f2-4c77-a6d5-f91fda84717b"
      },
      "execution_count": null,
      "outputs": [
        {
          "output_type": "stream",
          "name": "stdout",
          "text": [
            "\n",
            "Podstawowe miary statystyczne dla odmiany kama:\n",
            "            area  perimeter     length\n",
            "count  48.000000  48.000000  48.000000\n",
            "mean   14.188661  13.271199   5.595760\n",
            "std     1.251327   0.573848   0.235555\n",
            "min    11.320791  11.754386   5.043860\n",
            "25%    13.177613  12.883772   5.482456\n",
            "50%    14.339028  13.355263   5.614035\n",
            "75%    14.937770  13.695176   5.745614\n",
            "max    16.784011  14.517544   6.228070\n",
            "\n",
            "Podstawowe miary statystyczne dla odmiany canadian:\n",
            "            area  perimeter     length\n",
            "count  48.000000  48.000000  48.000000\n",
            "mean   11.433967  12.368421   5.311586\n",
            "std     0.738295   0.513005   0.190695\n",
            "min     9.649123  11.228070   4.824561\n",
            "25%    10.994249  12.105263   5.175439\n",
            "50%    11.358303  12.280702   5.307018\n",
            "75%    11.853167  12.642544   5.405702\n",
            "max    13.559942  13.684211   5.789474\n",
            "\n",
            "Podstawowe miary statystyczne dla odmiany rosa:\n",
            "            area  perimeter     length\n",
            "count  48.000000  48.000000  48.000000\n",
            "mean   18.172700  15.916484   6.310307\n",
            "std     1.889859   0.882414   0.300159\n",
            "min    13.294476  13.245614   5.657895\n",
            "25%    16.880675  15.471492   6.173246\n",
            "50%    18.242152  15.986842   6.293860\n",
            "75%    19.329987  16.381579   6.491228\n",
            "max    21.993307  17.807018   6.973684\n"
          ]
        }
      ]
    },
    {
      "cell_type": "markdown",
      "source": [
        "## 5. Wykorzystując statystyczne testy istotności zweryfikować następujące hipotezy:"
      ],
      "metadata": {
        "id": "G9KzjJskwiji"
      }
    },
    {
      "cell_type": "markdown",
      "source": [
        "a. Rozkład długości ziaren odmiany Kama jest zgodny z rozkładem normalnym\n",
        "(shapiro(array))"
      ],
      "metadata": {
        "id": "uW0DI27ywosq"
      }
    },
    {
      "cell_type": "code",
      "source": [
        "from scipy.stats import shapiro\n",
        "a = data.dropna()\n",
        "stat, p = shapiro(a[a['group'] == 'kama']['length'])\n",
        "print(stat, p)\n",
        "alpha = 0.05\n",
        "if p > alpha:\n",
        "  print('Próbka wygląda na zgodną z rozkładem normalnym \\n(Nie ma podstaw do odrzucenia H0)')\n",
        "else:\n",
        "  print('Próbka nie wygląda na zgodną z rozkładem normalnym \\n(odrzucić H0)')"
      ],
      "metadata": {
        "colab": {
          "base_uri": "https://localhost:8080/"
        },
        "id": "BMOGjdFnwsmj",
        "outputId": "00cff9b4-e8ee-4ca9-e291-519a43fdb1bd"
      },
      "execution_count": null,
      "outputs": [
        {
          "output_type": "stream",
          "name": "stdout",
          "text": [
            "0.9648526242011641 0.1584238037320142\n",
            "Próbka wygląda na zgodną z rozkładem normalnym \n",
            "(Nie ma podstaw do odrzucenia H0)\n"
          ]
        }
      ]
    },
    {
      "cell_type": "markdown",
      "source": [
        "b. Średnia długość ziaren odmiany Kama wynosi 5.5 mm (ttest_1samp(array, mean))"
      ],
      "metadata": {
        "id": "PLLbIwP4w3BT"
      }
    },
    {
      "cell_type": "code",
      "source": [
        "from scipy.stats import ttest_1samp\n",
        "a = data[data['group'] == 'kama']['length']\n",
        "t_statistic, p_value = ttest_1samp(a, 5.5)\n",
        "print(f\"Statystyka t: {t_statistic}\")\n",
        "print(f\"Wartość p: {p_value}\")\n",
        "alpha = 0.05\n",
        "if p > alpha:\n",
        "  print('Średnia długość ziaren wygląda na 5.5mm \\n(Nie ma podstaw do odrzucenia H0)')\n",
        "else:\n",
        "  print('Średnia długośc ziaren nie wynosi 5.5mm \\n(odrzucić H0)')"
      ],
      "metadata": {
        "colab": {
          "base_uri": "https://localhost:8080/"
        },
        "id": "S6wSvuExxCLC",
        "outputId": "70006985-e2be-4883-c7c0-1cd5d0519036"
      },
      "execution_count": null,
      "outputs": [
        {
          "output_type": "stream",
          "name": "stdout",
          "text": [
            "Statystyka t: 2.8165251458733978\n",
            "Wartość p: 0.007075412167958026\n",
            "Średnia długość ziaren wygląda na 5.5mm \n",
            "(Nie ma podstaw do odrzucenia H0)\n"
          ]
        }
      ]
    },
    {
      "cell_type": "markdown",
      "source": [
        "c. Rozkład długości ziaren odmiany Rosa jest zgodny z rozkładem normalnym\n",
        "(shapiro(array))"
      ],
      "metadata": {
        "id": "ZirPpbqHxPga"
      }
    },
    {
      "cell_type": "code",
      "source": [
        "from scipy.stats import shapiro\n",
        "a = data.dropna()\n",
        "print(a)\n",
        "stat, p = shapiro(a[a['group'] == 'rosa']['length'])\n",
        "print(stat, p)\n",
        "alpha = 0.05\n",
        "if p > alpha:\n",
        "  print('Próbka wygląda na zgodną z rozkładem normalnym \\n(Nie ma podstaw do odrzucenia H0)')\n",
        "else:\n",
        "  print('Próbka nie wygląda na zgodną z rozkładem normalnym \\n(odrzucić H0)')"
      ],
      "metadata": {
        "colab": {
          "base_uri": "https://localhost:8080/"
        },
        "id": "gR1tV3-4xb9q",
        "outputId": "c0a5825e-37fb-49c4-908e-e309528eb55d"
      },
      "execution_count": null,
      "outputs": [
        {
          "output_type": "stream",
          "name": "stdout",
          "text": [
            "    group  compactness     width    length       area  perimeter\n",
            "0    kama         0.91  3.201754  5.833333  15.287397  13.903509\n",
            "1    kama         0.93  3.201754  5.570176  14.735304  13.552632\n",
            "2    kama         0.96  3.289474  5.438597  14.404433  13.201755\n",
            "3    kama         0.95  3.245614  5.350877  13.890813  12.982456\n",
            "4    kama         0.97  3.464912  5.745614  16.062635  13.859649\n",
            "..    ...          ...       ...       ...        ...        ...\n",
            "139  rosa         0.60  3.684211  5.833333  16.662820  17.807018\n",
            "140  rosa         0.82  3.552632  6.359649  17.834334  15.833334\n",
            "141  rosa         0.85  3.201754  6.228070  16.093414  14.780702\n",
            "142  rosa         0.70  3.508772  6.447369  18.117114  17.280702\n",
            "143  rosa         0.80  3.421053  6.052632  16.589721  15.438597\n",
            "\n",
            "[144 rows x 6 columns]\n",
            "0.979814775910444 0.5710109959268561\n",
            "Próbka wygląda na zgodną z rozkładem normalnym \n",
            "(Nie ma podstaw do odrzucenia H0)\n"
          ]
        }
      ]
    },
    {
      "cell_type": "markdown",
      "source": [
        "d. Wariancja długości ziaren odmiany Kama jest równa wariancji długości ziaren\n",
        "odmiany Rosa (levene(array1, array2))."
      ],
      "metadata": {
        "id": "ai-tBaUUxrkU"
      }
    },
    {
      "cell_type": "code",
      "source": [
        "from scipy.stats import levene\n",
        "kama_length = data[data['group'] == 'kama']['length']\n",
        "rosa_length = data[data['group'] == 'rosa']['length']\n",
        "t_statistic, p_value = levene(kama_length, rosa_length)\n",
        "print(f\"Statystyka t: {t_statistic}\")\n",
        "print(f\"Wartość p: {p_value}\")\n",
        "alpha = 0.05\n",
        "if p > alpha:\n",
        "  print('Wariancja długości ziaren odmiany Kama wygląda na równą wariancji długości ziaren odmiany Rosa \\n(Nie ma podstaw do odrzucenia H0)')\n",
        "else:\n",
        "  print('Wariancja długości ziaren odmiany Kama nie wygląda na równą wariancji długości ziaren odmiany Rosa \\n(odrzucić H0)')"
      ],
      "metadata": {
        "colab": {
          "base_uri": "https://localhost:8080/"
        },
        "id": "aAjtaCG5xvSV",
        "outputId": "761b2187-e11d-4b1f-bcfb-37e0f015de29"
      },
      "execution_count": null,
      "outputs": [
        {
          "output_type": "stream",
          "name": "stdout",
          "text": [
            "Statystyka t: 2.441417522798125\n",
            "Wartość p: 0.12152992552493813\n",
            "Wariancja długości ziaren odmiany Kama wygląda na równą wariancji długości ziaren odmiany Rosa \n",
            "(Nie ma podstaw do odrzucenia H0)\n"
          ]
        }
      ]
    },
    {
      "cell_type": "markdown",
      "source": [
        "e. Średnia długość ziaren odmiany Kama jest równa średniej długości ziaren odmiany\n",
        "Rosa (ttest_ind(array1, array2)). Wykorzystać test parametryczny."
      ],
      "metadata": {
        "id": "abZAqu8ix7Xs"
      }
    },
    {
      "cell_type": "code",
      "source": [
        "from scipy.stats import ttest_ind\n",
        "kama_length = data[data['group'] == 'kama']['length']\n",
        "rosa_length = data[data['group'] == 'rosa']['length']\n",
        "t_statistic, p_value = ttest_ind(kama_length, rosa_length)\n",
        "print(f\"Statystyka t: {t_statistic}\")\n",
        "print(f\"Wartość p: {p_value}\")\n",
        "alpha = 0.05\n",
        "if p > alpha:\n",
        "  print('Średnia długość ziaren odmiany Kama wygląda na równą średniej długości ziaren odmiany Rosa  \\n(Nie ma podstaw do odrzucenia H0)')\n",
        "else:\n",
        "  print('Średnia długość ziaren odmiany Kama nie wygląda na równą średniej długości ziaren odmiany Rosa  \\n(odrzucić H0)')"
      ],
      "metadata": {
        "colab": {
          "base_uri": "https://localhost:8080/"
        },
        "id": "WAecClNHx8mV",
        "outputId": "0c879bd5-f129-4a89-c65e-8627614c3d75"
      },
      "execution_count": null,
      "outputs": [
        {
          "output_type": "stream",
          "name": "stdout",
          "text": [
            "Statystyka t: -12.974726685134593\n",
            "Wartość p: 1.143323154111328e-22\n",
            "Średnia długość ziaren odmiany Kama wygląda na równą średniej długości ziaren odmiany Rosa  \n",
            "(Nie ma podstaw do odrzucenia H0)\n"
          ]
        }
      ]
    },
    {
      "cell_type": "markdown",
      "source": [
        "f. Średnia długość ziaren odmiany Kama jest równa średniej długości ziaren odmiany\n",
        "Rosa (ttest_ind(array1, array2)). Wykorzystać test nieparametryczny"
      ],
      "metadata": {
        "id": "Dc8UvaAEyFRF"
      }
    },
    {
      "cell_type": "code",
      "source": [
        "from scipy.stats import mannwhitneyu\n",
        "kama_length = data[data['group'] == 'kama']['length']\n",
        "rosa_length = data[data['group'] == 'rosa']['length']\n",
        "t_statistic, p_value = mannwhitneyu(kama_length, rosa_length)\n",
        "print(f\"Statystyka t: {t_statistic}\")\n",
        "print(f\"Wartość p: {p_value}\")\n",
        "alpha = 0.05\n",
        "if p > alpha:\n",
        "  print('Średnia długość ziaren odmiany Kama wygląda na równą średniej długości ziaren odmiany Rosa \\n(Nie ma podstaw do odrzucenia H0)')\n",
        "else:\n",
        "  print('Średnia długość ziaren odmiany Kama nie wygląda na równą średniej długości ziaren odmiany Rosa  \\n(odrzucić H0)')"
      ],
      "metadata": {
        "colab": {
          "base_uri": "https://localhost:8080/"
        },
        "id": "yRTG7TVYyEe8",
        "outputId": "c379892f-9d81-4424-f199-aa4ef0c0f8e3"
      },
      "execution_count": null,
      "outputs": [
        {
          "output_type": "stream",
          "name": "stdout",
          "text": [
            "Statystyka t: 76.5\n",
            "Wartość p: 3.1551426989385397e-15\n",
            "Średnia długość ziaren odmiany Kama wygląda na równą średniej długości ziaren odmiany Rosa \n",
            "(Nie ma podstaw do odrzucenia H0)\n"
          ]
        }
      ]
    },
    {
      "cell_type": "markdown",
      "source": [
        "g. Brak zależności pomiędzy polem powierzchni i obwodem ziaren odmiany Rosa\n",
        "(pearsonr(array1, array2)). Wykonać wykres punktowy dla tych zmiennych."
      ],
      "metadata": {
        "id": "1dL-LWGfyzG1"
      }
    },
    {
      "cell_type": "code",
      "source": [
        "from scipy.stats import pearsonr\n",
        "rosa_area = data[data['group'] == 'rosa']['area']\n",
        "rosa_perimeter = data[data['group'] == 'rosa']['perimeter']\n",
        "t_statistic, p_value = pearsonr(rosa_area,rosa_perimeter)\n",
        "print(f\"Statystyka t: {t_statistic}\")\n",
        "print(f\"Wartość p: {p_value}\")\n",
        "alpha = 0.05\n",
        "if p > alpha:\n",
        "  print('Brak zależności pomiędzy polem powierzchni i obwodem ziaren odmiany Rosa \\n(Nie ma podstaw do odrzucenia H0)')\n",
        "else:\n",
        "  print('Istnieje zależność pomiędzy polem powierzchni i obwodem ziaren odmiany Rosa  \\n(odrzucić H0)')\n"
      ],
      "metadata": {
        "colab": {
          "base_uri": "https://localhost:8080/"
        },
        "id": "qI_uIV0Wy_Bz",
        "outputId": "4da7a4c0-bc1d-4db7-834f-df5300a7e404"
      },
      "execution_count": null,
      "outputs": [
        {
          "output_type": "stream",
          "name": "stdout",
          "text": [
            "Statystyka t: 0.5959191062516025\n",
            "Wartość p: 7.868253961403351e-06\n",
            "Brak zależności pomiędzy polem powierzchni i obwodem ziaren odmiany Rosa \n",
            "(Nie ma podstaw do odrzucenia H0)\n"
          ]
        }
      ]
    },
    {
      "cell_type": "code",
      "source": [
        "plt.scatter(rosa_area, rosa_perimeter)\n",
        "plt.xlabel(\"Pole powierzchni\")\n",
        "plt.ylabel(\"Obwód\")\n",
        "plt.title(\"Zależność między polem powierzchni a obwodem ziaren odmiany Rosa\")\n",
        "plt.show()"
      ],
      "metadata": {
        "id": "8kn7frf1zsBa",
        "outputId": "d27dd26e-8828-490f-ea10-73ba154ecccf",
        "colab": {
          "base_uri": "https://localhost:8080/",
          "height": 472
        }
      },
      "execution_count": null,
      "outputs": [
        {
          "output_type": "display_data",
          "data": {
            "text/plain": [
              "<Figure size 640x480 with 1 Axes>"
            ],
            "image/png": "[encoded data removed]"
          },
          "metadata": {}
        }
      ]
    }
  ]
}